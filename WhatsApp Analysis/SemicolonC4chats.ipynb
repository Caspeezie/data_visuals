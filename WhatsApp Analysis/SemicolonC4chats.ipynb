{
 "cells": [
  {
   "cell_type": "markdown",
   "metadata": {},
   "source": [
    "Data Visualization using Cohort 4 chat from Semicolon Group."
   ]
  },
  {
   "cell_type": "code",
   "execution_count": 6,
   "metadata": {},
   "outputs": [],
   "source": [
    "import re\n",
    "import regex\n",
    "import pandas as pd\n",
    "import numpy as np\n"
   ]
  },
  {
   "cell_type": "code",
   "execution_count": 2,
   "metadata": {},
   "outputs": [],
   "source": [
    "def startsWithDateAndTime(s):\n",
    "    pattern = '^([0-9]+)(\\/)([0-9]+)(\\/)([0-9]+), ([0-9]+):([0-9]+)[ ]?(AM|PM|am|pm)? -'\n",
    "    result = re.match(pattern, s)\n",
    "    if result:\n",
    "        return True\n",
    "    return False  "
   ]
  },
  {
   "cell_type": "code",
   "execution_count": 3,
   "metadata": {},
   "outputs": [],
   "source": [
    "def FindAuthor(s):\n",
    "    s=s.split(\":\")\n",
    "    if len(s)==2:\n",
    "        return True\n",
    "    else:\n",
    "        return False"
   ]
  },
  {
   "cell_type": "code",
   "execution_count": 4,
   "metadata": {},
   "outputs": [],
   "source": [
    "def getDataPoint(line):\n",
    "    splitLine = line.split(' - ')\n",
    "    dateTime = splitLine[0]\n",
    "    date, time = dateTime.split(', ')\n",
    "    message = ' '.join(splitLine[1:])\n",
    "    if FindAuthor(message):\n",
    "        splitMessage = message.split(': ')\n",
    "        author = splitMessage[0]\n",
    "        message = ' '.join(splitMessage[1:])\n",
    "    else:\n",
    "        author = None\n",
    "    return date, time, author, message"
   ]
  },
  {
   "cell_type": "code",
   "execution_count": 7,
   "metadata": {},
   "outputs": [],
   "source": [
    "parsedData = []  #List to keep track of data so it can be used by a Pandas dataframe\n",
    "conversationPath = 'C:/Users/USER/Desktop/WhatsApp Chat with Semicolon — Gadans.txt'\n",
    "with open(conversationPath, encoding=\"utf-8\") as fp:\n",
    "    fp.readline()  #Skipping first line of the file because it contains information about end-to-end encryption\n",
    "    messageBuffer = []\n",
    "    date, time, author = None, None, None\n",
    "    while True:\n",
    "        line = fp.readline()\n",
    "        if not line:\n",
    "            break\n",
    "        line = line.strip()\n",
    "        if startsWithDateAndTime(line):\n",
    "            if len(messageBuffer) > 0:\n",
    "                parsedData.append([date, time, author, ' '.join(messageBuffer)])\n",
    "            messageBuffer.clear()\n",
    "            date, time, author, message = getDataPoint(line)\n",
    "            messageBuffer.append(message)\n",
    "        else:\n",
    "            messageBuffer.append(line)"
   ]
  },
  {
   "cell_type": "code",
   "execution_count": 8,
   "metadata": {},
   "outputs": [],
   "source": [
    "df = pd.DataFrame(parsedData, columns=['Date', 'Time', 'Author', 'Message']) #Initialising a Pandas dataframe\n",
    "df[\"Date\"] = pd.to_datetime(df[\"Date\"])"
   ]
  },
  {
   "cell_type": "code",
   "execution_count": 9,
   "metadata": {},
   "outputs": [
    {
     "data": {
      "text/html": [
       "<div>\n",
       "<style scoped>\n",
       "    .dataframe tbody tr th:only-of-type {\n",
       "        vertical-align: middle;\n",
       "    }\n",
       "\n",
       "    .dataframe tbody tr th {\n",
       "        vertical-align: top;\n",
       "    }\n",
       "\n",
       "    .dataframe thead th {\n",
       "        text-align: right;\n",
       "    }\n",
       "</style>\n",
       "<table border=\"1\" class=\"dataframe\">\n",
       "  <thead>\n",
       "    <tr style=\"text-align: right;\">\n",
       "      <th></th>\n",
       "      <th>Date</th>\n",
       "      <th>Time</th>\n",
       "      <th>Author</th>\n",
       "      <th>Message</th>\n",
       "    </tr>\n",
       "  </thead>\n",
       "  <tbody>\n",
       "    <tr>\n",
       "      <td>0</td>\n",
       "      <td>2020-01-16</td>\n",
       "      <td>6:00 PM</td>\n",
       "      <td>None</td>\n",
       "      <td>+234 818 290 5803 created group \"Semicolon Coh...</td>\n",
       "    </tr>\n",
       "    <tr>\n",
       "      <td>1</td>\n",
       "      <td>2020-01-23</td>\n",
       "      <td>5:15 PM</td>\n",
       "      <td>None</td>\n",
       "      <td>+234 802 405 0796 added you</td>\n",
       "    </tr>\n",
       "  </tbody>\n",
       "</table>\n",
       "</div>"
      ],
      "text/plain": [
       "        Date     Time Author  \\\n",
       "0 2020-01-16  6:00 PM   None   \n",
       "1 2020-01-23  5:15 PM   None   \n",
       "\n",
       "                                             Message  \n",
       "0  +234 818 290 5803 created group \"Semicolon Coh...  \n",
       "1                        +234 802 405 0796 added you  "
      ]
     },
     "execution_count": 9,
     "metadata": {},
     "output_type": "execute_result"
    }
   ],
   "source": [
    "df.head(2)"
   ]
  },
  {
   "cell_type": "code",
   "execution_count": 10,
   "metadata": {},
   "outputs": [
    {
     "name": "stdout",
     "output_type": "stream",
     "text": [
      "<class 'pandas.core.frame.DataFrame'>\n",
      "RangeIndex: 4029 entries, 0 to 4028\n",
      "Data columns (total 4 columns):\n",
      "Date       4029 non-null datetime64[ns]\n",
      "Time       4029 non-null object\n",
      "Author     3702 non-null object\n",
      "Message    4029 non-null object\n",
      "dtypes: datetime64[ns](1), object(3)\n",
      "memory usage: 126.0+ KB\n"
     ]
    }
   ],
   "source": [
    "df.info()"
   ]
  },
  {
   "cell_type": "code",
   "execution_count": 11,
   "metadata": {},
   "outputs": [
    {
     "data": {
      "text/plain": [
       "array([None, 'Uzo Semicolon', 'iClass Semicolon', '+234 818 290 5803',\n",
       "       'Deborah priestess semicolon C4', 'Anthony semicolon C4',\n",
       "       'Camo Semicolon', 'Sadiq', '+234 803 845 6766',\n",
       "       'Peter Enumah Semicolon C4', 'Ishaku', 'Kunle Semicolon',\n",
       "       '+234 807 386 0412', '+234 809 019 6449', 'Mr. B',\n",
       "       'Ganiyu semicolon C4', 'Sam Emmanuel CEO Semicolon.africa',\n",
       "       'Razaq semicolon c4', 'Moreniké 2', \"Ife Semicolon C4 Sam's Sis\",\n",
       "       'Yinka semicolon C4', 'Bola semicolon C4', '+234 708 552 0171',\n",
       "       '+234 812 571 1144', 'Victor semicolon C4', '+234 708 687 1683',\n",
       "       \"Kola Samuel's semicolon C4\", 'Alicho semicolon C4',\n",
       "       'Michael C4 semicolon', '+234 816 470 2355',\n",
       "       'Sheun semicolon cohort 4', '+234 703 089 2190',\n",
       "       'Adeniyi Semicolon C4', '+234 814 348 0415', 'Mr Fakolujo',\n",
       "       'Stephen semicolon C4 bad commando', '+234 708 918 9188',\n",
       "       '+234 802 405 0796', 'Razaq semicolon C4', '+234 803 742 8664',\n",
       "       'Samuel semicolon C4', 'Ernest Semicolon', '+234 813 871 6043',\n",
       "       '+234 909 138 8098', 'Raphael semicolon C4',\n",
       "       'Aniefiok semicolon c4', '+234 812 598 9169',\n",
       "       'Patience Semicolon C4', 'Joanna Ebreso Semicolon C4',\n",
       "       'Bernard semicolon C4', 'Grace Semicolon C4', '+234 802 441 9462',\n",
       "       '+234 905 766 5347', '+234 703 103 8346', '+234 704 244 1564',\n",
       "       'Chijioke c4 semicolon', '+234 706 623 7440'], dtype=object)"
      ]
     },
     "execution_count": 11,
     "metadata": {},
     "output_type": "execute_result"
    }
   ],
   "source": [
    "df.Author.unique()"
   ]
  },
  {
   "cell_type": "code",
   "execution_count": 12,
   "metadata": {},
   "outputs": [
    {
     "name": "stdout",
     "output_type": "stream",
     "text": [
      "<class 'pandas.core.frame.DataFrame'>\n",
      "Int64Index: 3702 entries, 2 to 4028\n",
      "Data columns (total 4 columns):\n",
      "Date       3702 non-null datetime64[ns]\n",
      "Time       3702 non-null object\n",
      "Author     3702 non-null object\n",
      "Message    3702 non-null object\n",
      "dtypes: datetime64[ns](1), object(3)\n",
      "memory usage: 144.6+ KB\n"
     ]
    }
   ],
   "source": [
    "df = df.dropna()\n",
    "df.info()"
   ]
  },
  {
   "cell_type": "code",
   "execution_count": 13,
   "metadata": {},
   "outputs": [
    {
     "data": {
      "text/plain": [
       "array(['Uzo Semicolon', 'iClass Semicolon', '+234 818 290 5803',\n",
       "       'Deborah priestess semicolon C4', 'Anthony semicolon C4',\n",
       "       'Camo Semicolon', 'Sadiq', '+234 803 845 6766',\n",
       "       'Peter Enumah Semicolon C4', 'Ishaku', 'Kunle Semicolon',\n",
       "       '+234 807 386 0412', '+234 809 019 6449', 'Mr. B',\n",
       "       'Ganiyu semicolon C4', 'Sam Emmanuel CEO Semicolon.africa',\n",
       "       'Razaq semicolon c4', 'Moreniké 2', \"Ife Semicolon C4 Sam's Sis\",\n",
       "       'Yinka semicolon C4', 'Bola semicolon C4', '+234 708 552 0171',\n",
       "       '+234 812 571 1144', 'Victor semicolon C4', '+234 708 687 1683',\n",
       "       \"Kola Samuel's semicolon C4\", 'Alicho semicolon C4',\n",
       "       'Michael C4 semicolon', '+234 816 470 2355',\n",
       "       'Sheun semicolon cohort 4', '+234 703 089 2190',\n",
       "       'Adeniyi Semicolon C4', '+234 814 348 0415', 'Mr Fakolujo',\n",
       "       'Stephen semicolon C4 bad commando', '+234 708 918 9188',\n",
       "       '+234 802 405 0796', 'Razaq semicolon C4', '+234 803 742 8664',\n",
       "       'Samuel semicolon C4', 'Ernest Semicolon', '+234 813 871 6043',\n",
       "       '+234 909 138 8098', 'Raphael semicolon C4',\n",
       "       'Aniefiok semicolon c4', '+234 812 598 9169',\n",
       "       'Patience Semicolon C4', 'Joanna Ebreso Semicolon C4',\n",
       "       'Bernard semicolon C4', 'Grace Semicolon C4', '+234 802 441 9462',\n",
       "       '+234 905 766 5347', '+234 703 103 8346', '+234 704 244 1564',\n",
       "       'Chijioke c4 semicolon', '+234 706 623 7440'], dtype=object)"
      ]
     },
     "execution_count": 13,
     "metadata": {},
     "output_type": "execute_result"
    }
   ],
   "source": [
    "df.Author.unique()"
   ]
  },
  {
   "cell_type": "code",
   "execution_count": null,
   "metadata": {},
   "outputs": [],
   "source": []
  }
 ],
 "metadata": {
  "kernelspec": {
   "display_name": "Python 3",
   "language": "python",
   "name": "python3"
  },
  "language_info": {
   "codemirror_mode": {
    "name": "ipython",
    "version": 3
   },
   "file_extension": ".py",
   "mimetype": "text/x-python",
   "name": "python",
   "nbconvert_exporter": "python",
   "pygments_lexer": "ipython3",
   "version": "3.7.4"
  }
 },
 "nbformat": 4,
 "nbformat_minor": 2
}
